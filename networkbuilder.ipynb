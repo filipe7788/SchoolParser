{
 "cells": [
  {
   "attachments": {},
   "cell_type": "markdown",
   "metadata": {},
   "source": [
    "## Import de bibliotecas necessárias para o funcionamento do script"
   ]
  },
  {
   "cell_type": "code",
   "execution_count": 12,
   "metadata": {},
   "outputs": [],
   "source": [
    "import pandas as pd\n",
    "import networkx as nx\n",
    "import os"
   ]
  },
  {
   "attachments": {},
   "cell_type": "markdown",
   "metadata": {},
   "source": [
    "## Construção de arestas baseados nas igualdades de combinação e subgrupo e adicionando-as ao objeto com os nós"
   ]
  },
  {
   "cell_type": "code",
   "execution_count": 13,
   "metadata": {},
   "outputs": [],
   "source": [
    "def gerar_edges(dados_para_conversao):\n",
    "    edges = []\n",
    "    for (index, item) in dados_para_conversao.iterrows():\n",
    "        for index2, item2 in dados_para_conversao.iterrows():\n",
    "            if(item['Código da Escola'] != item2['Código da Escola']):\n",
    "                quantidade_de_associacoes = 0\n",
    "                \n",
    "                # 21 é o indice de combinações\n",
    "                if(item[21] == item2[21]):\n",
    "                    quantidade_de_associacoes = quantidade_de_associacoes+1\n",
    "\n",
    "                if(item['Subgrupos'] == item2['Subgrupos']):\n",
    "                    quantidade_de_associacoes = quantidade_de_associacoes+1\n",
    "\n",
    "                if(quantidade_de_associacoes > 0):\n",
    "                    e = ((item[1]), (item2[1]), quantidade_de_associacoes)\n",
    "                    edges.append(e)\n",
    "\n",
    "    return edges"
   ]
  },
  {
   "attachments": {},
   "cell_type": "markdown",
   "metadata": {},
   "source": [
    "## Importação dos dados contidos na mesma pasta e construção dos nós com seus respectivos valores "
   ]
  },
  {
   "cell_type": "code",
   "execution_count": 14,
   "metadata": {},
   "outputs": [],
   "source": [
    "def gerar_graph(arquivo_nome,urbano_ou_rural):\n",
    "    dados_para_conversao = pd.read_excel(arquivo_nome, engine=\"openpyxl\", sheet_name=urbano_ou_rural)\n",
    "\n",
    "    G = nx.Graph()\n",
    "\n",
    "    for (index, item) in dados_para_conversao.iterrows():\n",
    "        G.add_node(item[1], \n",
    "               Nome_da_Escola=item[1],\n",
    "               Nome_do_Municipio=item[2],\n",
    "               Nome_UF=item[3],\n",
    "               Tipo_de_dependencia_administrativa=item[4],\n",
    "               Tipo_de_Localizacao=item[5],\n",
    "               Quantidade_de_alunos=item[6],\n",
    "               INSE_Valor_Absoluto=item[7],\n",
    "               INSE_Classificação=item[8],\n",
    "               Subgrupo=item[9],\n",
    "               Proficiencia_em_Matematica=item[10],\n",
    "               Nivel_de_proficiência_em_Matematica=item[11],\n",
    "               Proficiencia_em_Lingua_Portuguesa=item[12],\n",
    "               Nivel_de_proficiencia_em_Lingua_Portuguesa=item[13],\n",
    "               IDEB=item[14],\n",
    "               Indicador_de_Rendimento=item[15],\n",
    "               Taxa_de_Aprovacao=item[16],\n",
    "               Taxa_de_Reprovacao=item[17],\n",
    "               Taxa_de_Abandono=item[18],\n",
    "               Projecao=item[19],\n",
    "               Atingiu_ou_nao_a_projeção=item[20],\n",
    "               COMBINACAO=item[21] \n",
    "              \n",
    "    )\n",
    "    edges = gerar_edges(dados_para_conversao)    \n",
    "    G.add_weighted_edges_from(edges)\n",
    "    nx.write_gexf(G, \"Resultados/\"+arquivo_nome+\" - \"+urbano_ou_rural+\".gexf\", encoding='utf-8', prettyprint=True, version='1.2draft')\n"
   ]
  },
  {
   "attachments": {},
   "cell_type": "markdown",
   "metadata": {},
   "source": [
    "# Importando todos os arquivos xlsx"
   ]
  },
  {
   "cell_type": "code",
   "execution_count": 16,
   "metadata": {},
   "outputs": [],
   "source": [
    "path = os.getcwd()\n",
    "files = os.listdir(path)\n",
    "files_xls = [f for f in files if f[-4:] == 'xlsx']\n",
    "for item in files_xls:\n",
    "    gerar_graph(item, \"Urbana\")\n",
    "    gerar_graph(item, \"Rural\")\n",
    "    "
   ]
  }
 ],
 "metadata": {
  "kernelspec": {
   "display_name": "Python 3",
   "language": "python",
   "name": "python3"
  },
  "language_info": {
   "codemirror_mode": {
    "name": "ipython",
    "version": 3
   },
   "file_extension": ".py",
   "mimetype": "text/x-python",
   "name": "python",
   "nbconvert_exporter": "python",
   "pygments_lexer": "ipython3",
   "version": "3.11.3"
  },
  "orig_nbformat": 4,
  "vscode": {
   "interpreter": {
    "hash": "31f2aee4e71d21fbe5cf8b01ff0e069b9275f58929596ceb00d14d90e3e16cd6"
   }
  }
 },
 "nbformat": 4,
 "nbformat_minor": 2
}
