{
 "cells": [
  {
   "attachments": {},
   "cell_type": "markdown",
   "metadata": {},
   "source": [
    "## Import de bibliotecas necessárias para o funcionamento do script"
   ]
  },
  {
   "cell_type": "code",
   "execution_count": 70,
   "metadata": {},
   "outputs": [],
   "source": [
    "import pandas as pd\n",
    "import networkx as nx\n",
    "import matplotlib.pyplot as plt"
   ]
  },
  {
   "attachments": {},
   "cell_type": "markdown",
   "metadata": {},
   "source": [
    "## Importação dos dados contidos na mesma pasta e construção dos nós com seus respectivos valores "
   ]
  },
  {
   "cell_type": "code",
   "execution_count": 71,
   "metadata": {},
   "outputs": [],
   "source": [
    "dados_para_conversao_urbano = pd.read_excel('salvador-series-finais.xlsx', engine=\"openpyxl\", sheet_name=\"Rural\")\n",
    "\n",
    "G = nx.Graph()\n",
    "\n",
    "for (index, item) in dados_para_conversao_urbano.iterrows():\n",
    "    G.add_node(item[1], \n",
    "               Nome_da_Escola=item[1],\n",
    "               Nome_do_Municipio=item[2],\n",
    "               Tipo_de_dependencia_administrativa=item[3],\n",
    "               Tipo_de_Localizacao=item[4],\n",
    "               Quantidade_de_alunos=item[5],\n",
    "               INSE_Valor_Absoluto=item[6],\n",
    "               INSE_Classificação=item[7],\n",
    "               Subgrupo=item[8],\n",
    "               Proficiencia_em_Matematica=item[9],\n",
    "               Nivel_de_proficiência_em_Matematica=item[10],\n",
    "               Proficiencia_em_Lingua_Portuguesa=item[11],\n",
    "               Nivel_de_proficiencia_em_Lingua_Portuguesa=item[12],\n",
    "               IDEB=item[13],\n",
    "               Indicador_de_Rendimento=item[14],\n",
    "               Taxa_de_Aprovacao=item[15],\n",
    "               Taxa_de_Reprovacao=item[16],\n",
    "               Taxa_de_Abandono=item[17],\n",
    "               Projecao=item[18],\n",
    "               Atingiu_ou_nao_a_projeção=item[18],\n",
    "               COMBINACAO=item[19] \n",
    "              \n",
    "    )"
   ]
  },
  {
   "attachments": {},
   "cell_type": "markdown",
   "metadata": {},
   "source": [
    "## Construção de arestas baseados nas igualdades de combinação e subgrupo e adicionando-as ao objeto com os nós"
   ]
  },
  {
   "cell_type": "code",
   "execution_count": 72,
   "metadata": {},
   "outputs": [],
   "source": [
    "edges = []\n",
    "for (index, item) in dados_para_conversao_urbano.iterrows():\n",
    "    for index2, item2 in dados_para_conversao_urbano.iterrows():\n",
    "        if(item['Código da Escola'] != item2['Código da Escola']):\n",
    "            quantidade_de_associacoes = 0\n",
    "            \n",
    "            if(item['Combinação'] == item2['Combinação']):\n",
    "                quantidade_de_associacoes = quantidade_de_associacoes+1\n",
    "\n",
    "            if(item['Subgrupos'] == item2['Subgrupos']):\n",
    "                quantidade_de_associacoes = quantidade_de_associacoes+1\n",
    "\n",
    "            if(quantidade_de_associacoes > 0):\n",
    "                e = ((item[1]), (item2[1]), quantidade_de_associacoes)\n",
    "                edges.append(e)\n",
    "\n",
    "G.add_weighted_edges_from(edges)\n"
   ]
  },
  {
   "attachments": {},
   "cell_type": "markdown",
   "metadata": {},
   "source": [
    "## Construção de arquivo .gefx para uso no retina"
   ]
  },
  {
   "cell_type": "code",
   "execution_count": 73,
   "metadata": {},
   "outputs": [],
   "source": [
    "nx.write_gexf(G, 'item.gexf', encoding='utf-8', prettyprint=True, version='1.2draft')"
   ]
  },
  {
   "attachments": {},
   "cell_type": "markdown",
   "metadata": {},
   "source": [
    "## Celula opicional para visualização prévia da rede"
   ]
  },
  {
   "cell_type": "code",
   "execution_count": 74,
   "metadata": {},
   "outputs": [
    {
     "data": {
      "image/png": "[encoded data removed]",
      "text/plain": [
       "<Figure size 432x288 with 1 Axes>"
      ]
     },
     "metadata": {},
     "output_type": "display_data"
    }
   ],
   "source": [
    "\n",
    "elarge = [(u, v) for (u, v, d) in G.edges(data=True) if d[\"weight\"] > 1]\n",
    "esmall = [(u, v) for (u, v, d) in G.edges(data=True) if d[\"weight\"] <= 0.5]\n",
    "\n",
    "pos = nx.spring_layout(G, seed=7)  # positions for all nodes - seed for reproducibility\n",
    "\n",
    "# nodes\n",
    "nx.draw_networkx_nodes(G, pos, node_size=20)\n",
    "\n",
    "# edges\n",
    "nx.draw_networkx_edges(G, pos, edgelist=elarge, width=.8)\n",
    "nx.draw_networkx_edges(\n",
    "    G, pos, edgelist=esmall, width=1, alpha=0.5, edge_color=\"b\", style=\"dashed\"\n",
    ")\n",
    "\n",
    "\n",
    "ax = plt.gca()\n",
    "ax.margins(0.08)\n",
    "plt.axis(\"on\")\n",
    "plt.tight_layout()\n",
    "plt.show()"
   ]
  }
 ],
 "metadata": {
  "kernelspec": {
   "display_name": "Python 3",
   "language": "python",
   "name": "python3"
  },
  "language_info": {
   "codemirror_mode": {
    "name": "ipython",
    "version": 3
   },
   "file_extension": ".py",
   "mimetype": "text/x-python",
   "name": "python",
   "nbconvert_exporter": "python",
   "pygments_lexer": "ipython3",
   "version": "3.6.9"
  },
  "orig_nbformat": 4,
  "vscode": {
   "interpreter": {
    "hash": "31f2aee4e71d21fbe5cf8b01ff0e069b9275f58929596ceb00d14d90e3e16cd6"
   }
  }
 },
 "nbformat": 4,
 "nbformat_minor": 2
}
